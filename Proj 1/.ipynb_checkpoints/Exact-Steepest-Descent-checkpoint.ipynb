{
 "cells": [
  {
   "cell_type": "code",
   "execution_count": 1,
   "metadata": {},
   "outputs": [],
   "source": [
    "import numpy as np\n",
    "from numpy.linalg import norm\n",
    "import matplotlib.pyplot as plt\n",
    "from scipy.optimize import minimize_scalar"
   ]
  },
  {
   "cell_type": "code",
   "execution_count": 2,
   "metadata": {},
   "outputs": [],
   "source": [
    "\"\"\"\n",
    "@def   : objective function \n",
    "@param : x is vector \n",
    "@return: a scalar\n",
    "\"\"\"\n",
    "def objective_func(x):\n",
    "    return (x[0] + 2*x[1] - 7)**2 + (2*x[0] + x[1] - 5)**2"
   ]
  },
  {
   "cell_type": "code",
   "execution_count": 3,
   "metadata": {},
   "outputs": [],
   "source": [
    "\"\"\"\n",
    "@def   : gradient of objective function \n",
    "@param : x is vector \n",
    "@return: a vector \n",
    "This is a test\n",
    "\"\"\"\n",
    "def grad_objective_func(x):\n",
    "    return np.array([10*x[0] + 8*x[1] - 34, 8*x[0] + 10*x[1] - 38])"
   ]
  },
  {
   "cell_type": "code",
   "execution_count": 4,
   "metadata": {},
   "outputs": [],
   "source": [
    "x0 = np.array([0, 0])\n",
    "x_opt = np.array([1., 3.])"
   ]
  },
  {
   "cell_type": "code",
   "execution_count": 5,
   "metadata": {},
   "outputs": [
    {
     "name": "stdout",
     "output_type": "stream",
     "text": [
      "[1. 3.]\n"
     ]
    }
   ],
   "source": [
    "\"\"\"\n",
    "@def   : exact steepest descent method\n",
    "@param : x is vector \n",
    "@return: a vector \n",
    "\"\"\"\n",
    "def exact_steepest_descent(x0):             \n",
    "    x = x0                                  \n",
    "    p = -grad_objective_func(x)             \n",
    "    while norm(p) > 1e-9:                  \n",
    "        def subproblem1d(alpha):            \n",
    "            return objective_func(x + alpha * p)  \n",
    "                                            \n",
    "        res = minimize_scalar(subproblem1d) \n",
    "        x = x + res.x * p                   \n",
    "        p = -grad_objective_func(x)         \n",
    "\n",
    "    return x\n",
    "\n",
    "\n",
    "x = exact_steepest_descent(x0)\n",
    "print(x)"
   ]
  }
 ],
 "metadata": {
  "kernelspec": {
   "display_name": "Python 3",
   "language": "python",
   "name": "python3"
  },
  "language_info": {
   "codemirror_mode": {
    "name": "ipython",
    "version": 3
   },
   "file_extension": ".py",
   "mimetype": "text/x-python",
   "name": "python",
   "nbconvert_exporter": "python",
   "pygments_lexer": "ipython3",
   "version": "3.6.5"
  }
 },
 "nbformat": 4,
 "nbformat_minor": 2
}
