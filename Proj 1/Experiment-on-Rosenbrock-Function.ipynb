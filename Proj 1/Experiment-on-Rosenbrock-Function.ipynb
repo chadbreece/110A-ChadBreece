{
 "cells": [
  {
   "cell_type": "code",
   "execution_count": 2,
   "metadata": {},
   "outputs": [],
   "source": [
    "import numpy as np\n",
    "from numpy.linalg import norm\n",
    "import matplotlib.pyplot as plt\n",
    "from scipy.optimize import minimize_scalar"
   ]
  },
  {
   "cell_type": "code",
   "execution_count": 3,
   "metadata": {},
   "outputs": [],
   "source": [
    "\"\"\"\n",
    "@def   : objective function \n",
    "@param : x is vector \n",
    "@return: a scalar\n",
    "\"\"\"\n",
    "def objective_func(x):\n",
    "    return (1-x[0])**2 + 100*(x[1] - x[0]**2)**2"
   ]
  },
  {
   "cell_type": "code",
   "execution_count": 4,
   "metadata": {},
   "outputs": [],
   "source": [
    "\"\"\"\n",
    "@def   : gradient of objective function \n",
    "@param : x is vector \n",
    "@return: a vector \n",
    "This is a test\n",
    "\"\"\"\n",
    "def grad_objective_func(x):\n",
    "    return np.array([2*(200*x[0]**3 - 200*x[0]*x[1] + x[0] - 1), 200*(x[1] - x[0]**2)])"
   ]
  },
  {
   "cell_type": "code",
   "execution_count": 5,
   "metadata": {},
   "outputs": [],
   "source": [
    "c1 = 0\n",
    "x0 = np.array([1.2, 1.2])\n",
    "x1 = [x0]\n",
    "x_opt = np.array([1., 1.])"
   ]
  },
  {
   "cell_type": "code",
   "execution_count": 6,
   "metadata": {},
   "outputs": [
    {
     "name": "stdout",
     "output_type": "stream",
     "text": [
      "[1. 1.]\n"
     ]
    }
   ],
   "source": [
    "\"\"\"\n",
    "@def   : exact steepest descent method\n",
    "@param : x is vector \n",
    "@return: a vector \n",
    "\"\"\"\n",
    "def exact_steepest_descent(x0):             \n",
    "    x = x0                                  \n",
    "    p = -grad_objective_func(x)             \n",
    "    while norm(p) > 1e-9:                   \n",
    "        def subproblem1d(alpha):            \n",
    "            return objective_func(x + alpha * p)  \n",
    "                                            \n",
    "        res = minimize_scalar(subproblem1d) \n",
    "        x = x + res.x * p\n",
    "        global x1\n",
    "        x1.append(x)\n",
    "        p = -grad_objective_func(x)         \n",
    "        global c1\n",
    "        c1 += 1\n",
    "    return x\n",
    "\n",
    "\n",
    "x = exact_steepest_descent(x0)\n",
    "print(x)"
   ]
  },
  {
   "cell_type": "code",
   "execution_count": 7,
   "metadata": {},
   "outputs": [],
   "source": [
    "c2 = 0\n",
    "alpha = 1e-3\n",
    "x0 = np.array([1.2, 1.2])\n",
    "x2 = [x0]\n",
    "x_opt = np.array([1., 1.])"
   ]
  },
  {
   "cell_type": "code",
   "execution_count": 8,
   "metadata": {},
   "outputs": [
    {
     "name": "stdout",
     "output_type": "stream",
     "text": [
      "[1. 1.]\n"
     ]
    }
   ],
   "source": [
    "\"\"\"\n",
    "@def   : exact steepest descent method\n",
    "@param : x is vector \n",
    "@return: a vector \n",
    "\"\"\"\n",
    "def exact_steepest_descent(x0):             \n",
    "    x = x0                                  \n",
    "    p = -grad_objective_func(x)             \n",
    "    while norm(p) > 1e-9:                   \n",
    "        x = x + alpha * p     \n",
    "        global x2\n",
    "        x2.append(x)\n",
    "        p = -grad_objective_func(x)        \n",
    "        global c2\n",
    "        c2 += 1\n",
    "    return x\n",
    "\n",
    "\n",
    "x = exact_steepest_descent(x0)\n",
    "print(x)"
   ]
  },
  {
   "cell_type": "code",
   "execution_count": 9,
   "metadata": {},
   "outputs": [],
   "source": [
    "c3 = 0\n",
    "x0 = np.array([-1.2, 1.])\n",
    "x3 = [x0]\n",
    "x_opt = np.array([1., 1.])"
   ]
  },
  {
   "cell_type": "code",
   "execution_count": 10,
   "metadata": {},
   "outputs": [
    {
     "name": "stdout",
     "output_type": "stream",
     "text": [
      "[1. 1.]\n"
     ]
    }
   ],
   "source": [
    "\"\"\"\n",
    "@def   : exact steepest descent method\n",
    "@param : x is vector \n",
    "@return: a vector \n",
    "\"\"\"\n",
    "def exact_steepest_descent(x0):            \n",
    "    x = x0                                 \n",
    "    p = -grad_objective_func(x)            \n",
    "    while norm(p) > 1e-9:                  \n",
    "        def subproblem1d(alpha):           \n",
    "            return objective_func(x + alpha * p)  \n",
    "                                           \n",
    "        res = minimize_scalar(subproblem1d)\n",
    "        x = x + res.x * p  \n",
    "        global x3\n",
    "        x3.append(x)\n",
    "        p = -grad_objective_func(x)        \n",
    "        global c3\n",
    "        c3 += 1\n",
    "    return x\n",
    "\n",
    "\n",
    "x = exact_steepest_descent(x0)\n",
    "print(x)"
   ]
  },
  {
   "cell_type": "code",
   "execution_count": 11,
   "metadata": {},
   "outputs": [],
   "source": [
    "c4 = 0\n",
    "alpha = 1e-3\n",
    "x0 = np.array([-1.2, 1.])\n",
    "x4 = [x0]\n",
    "x_opt = np.array([1., 1.])"
   ]
  },
  {
   "cell_type": "code",
   "execution_count": 12,
   "metadata": {},
   "outputs": [
    {
     "name": "stdout",
     "output_type": "stream",
     "text": [
      "[1. 1.]\n"
     ]
    }
   ],
   "source": [
    "\"\"\"\n",
    "@def   : exact steepest descent method\n",
    "@param : x is vector \n",
    "@return: a vector \n",
    "\"\"\"\n",
    "def exact_steepest_descent(x0):            \n",
    "    x = x0                                  \n",
    "    p = -grad_objective_func(x)             \n",
    "    while norm(p) > 1e-9:                  \n",
    "        x = x + alpha * p\n",
    "        global x4\n",
    "        x4.append(x)\n",
    "        p = -grad_objective_func(x)         \n",
    "        global c4\n",
    "        c4 += 1\n",
    "    return x\n",
    "\n",
    "\n",
    "x = exact_steepest_descent(x0)\n",
    "print(x)"
   ]
  },
  {
   "cell_type": "code",
   "execution_count": 13,
   "metadata": {},
   "outputs": [
    {
     "name": "stdout",
     "output_type": "stream",
     "text": [
      "Iterations:\n",
      "Exact steepest descent with first coordinates- 485\n",
      "Inexact Steepest Descent with first coordinates- 46565\n",
      "Exact steepest descent with second coordinates- 24477\n",
      "Inexact Steepest Descent with second coordinates- 49370\n"
     ]
    }
   ],
   "source": [
    "print(\"Iterations:\")\n",
    "\n",
    "print(\"Exact steepest descent with first coordinates-\",c1)\n",
    "print(\"Inexact Steepest Descent with first coordinates-\", c2)\n",
    "print(\"Exact steepest descent with second coordinates-\", c3)\n",
    "print(\"Inexact Steepest Descent with second coordinates-\", c4)"
   ]
  },
  {
   "cell_type": "code",
   "execution_count": 33,
   "metadata": {
    "scrolled": true
   },
   "outputs": [
    {
     "name": "stdout",
     "output_type": "stream",
     "text": [
      "[0.9995880905945351, 0.9996006925678278, 0.9995017722476385, 0.9996006209898841]\n"
     ]
    }
   ],
   "source": [
    "#Rate of convergence\n",
    "conv1_list = []\n",
    "for i in [x1,x2,x3,x4]:\n",
    "    conv1_list.append(np.linalg.norm(i[-1] - 1)/np.linalg.norm(i[-2] - 1))\n",
    "print(conv1_list)"
   ]
  },
  {
   "cell_type": "code",
   "execution_count": 35,
   "metadata": {},
   "outputs": [
    {
     "name": "stdout",
     "output_type": "stream",
     "text": [
      "[403786816.95793915, 399043015.1588389, 446962915.7981517, 399154159.0728727]\n"
     ]
    }
   ],
   "source": [
    "conv2_list = []\n",
    "for i in [x1,x2,x3,x4]:\n",
    "    conv2_list.append(np.linalg.norm(i[-1] - 1)/np.linalg.norm(i[-2] - 1)**2)\n",
    "print(conv2_list)"
   ]
  },
  {
   "cell_type": "code",
   "execution_count": 37,
   "metadata": {},
   "outputs": [
    {
     "name": "stdout",
     "output_type": "stream",
     "text": [
      "[1.6311098049602515e+17, 1.5929893719661706e+17, 1.9987543158581693e+17, 1.5938769880654618e+17]\n"
     ]
    }
   ],
   "source": [
    "conv3_list = []\n",
    "for i in [x1,x2,x3,x4]:\n",
    "    conv3_list.append(np.linalg.norm(i[-1] - 1)/np.linalg.norm(i[-2] - 1)**3)\n",
    "print(conv3_list)"
   ]
  },
  {
   "cell_type": "code",
   "execution_count": null,
   "metadata": {},
   "outputs": [],
   "source": []
  }
 ],
 "metadata": {
  "kernelspec": {
   "display_name": "Python 3",
   "language": "python",
   "name": "python3"
  },
  "language_info": {
   "codemirror_mode": {
    "name": "ipython",
    "version": 3
   },
   "file_extension": ".py",
   "mimetype": "text/x-python",
   "name": "python",
   "nbconvert_exporter": "python",
   "pygments_lexer": "ipython3",
   "version": "3.6.5"
  }
 },
 "nbformat": 4,
 "nbformat_minor": 2
}
