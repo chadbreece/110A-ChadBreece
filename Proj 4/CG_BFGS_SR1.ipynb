{
 "cells": [
  {
   "cell_type": "code",
   "execution_count": 1,
   "metadata": {},
   "outputs": [],
   "source": [
    "import numpy as np"
   ]
  },
  {
   "cell_type": "code",
   "execution_count": null,
   "metadata": {},
   "outputs": [],
   "source": [
    "def CG(A, b, x0):\n",
    "    x = [x0]\n",
    "    r = np.matmul(A,x) - b\n",
    "    p = -r\n",
    "    k = 0\n",
    "    while r[-1] != 0:\n",
    "        a.append(np.matmul(np.transpose(r[-1]),r[-1])\n",
    "                 /np.matmul(np.matmul(np.transpose(p[-1]),A),p[-1]))\n",
    "        x.append(x[])"
   ]
  }
 ],
 "metadata": {
  "kernelspec": {
   "display_name": "Python 3",
   "language": "python",
   "name": "python3"
  },
  "language_info": {
   "codemirror_mode": {
    "name": "ipython",
    "version": 3
   },
   "file_extension": ".py",
   "mimetype": "text/x-python",
   "name": "python",
   "nbconvert_exporter": "python",
   "pygments_lexer": "ipython3",
   "version": "3.6.5"
  }
 },
 "nbformat": 4,
 "nbformat_minor": 2
}
