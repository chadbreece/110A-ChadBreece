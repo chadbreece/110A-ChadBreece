{
 "cells": [
  {
   "cell_type": "code",
   "execution_count": null,
   "metadata": {},
   "outputs": [],
   "source": [
    "import numpy as np\n",
    "from numpy.linalg import norm, solve, multi_dot\n",
    "import matplotlib.pyplot as plt\n",
    "from scipy.optimize import minimize_scalar"
   ]
  },
  {
   "cell_type": "code",
   "execution_count": null,
   "metadata": {},
   "outputs": [],
   "source": [
    "# In order to use the Hilbert matrix, MATLAB users type hilb(n) to generate.\n",
    "from scipy.linalg import hilbert"
   ]
  },
  {
   "cell_type": "code",
   "execution_count": null,
   "metadata": {},
   "outputs": [],
   "source": [
    "# The other matrix is usually obtained from Poisson equation's numerical\n",
    "# solution in 1D. Note the following implementation is very costy since the \n",
    "# structure of the matrix is sparse, filling zeros is slow.\n",
    "\n",
    "# MATLAB users can find this matrix by: gallery('tridiag',n,-1,2,-1).\n",
    "def laplacian(n):\n",
    "    m = np.zeros([n, n])\n",
    "    for i in range(n):\n",
    "        m[i, i] = 2 \n",
    "        if i > 0:\n",
    "            m[i, i - 1] = -1 \n",
    "        if i < n-1:\n",
    "            m[i, i + 1] = -1\n",
    "    return m"
   ]
  },
  {
   "cell_type": "code",
   "execution_count": null,
   "metadata": {},
   "outputs": [],
   "source": [
    "\"\"\"\n",
    "Implement CG preliminary method in Algorithm 5.1.\n",
    "\n",
    "You have to implement the CG Algorithm 5.2 ......\n",
    "\"\"\"\n",
    "\n",
    "def CG_prelim(A, b):\n",
    "    n = A.shape[0]\n",
    "    x = np.matrix(np.zeros([n, 1])) \n",
    "    r = A * x - b \n",
    "    p = -r \n",
    "    k = 0 \n",
    "    while norm(r) > 1e-16 and k < n:\n",
    "        q     = A * p\n",
    "        t     = (p.T * q)\n",
    "        alpha = np.asscalar(-(r.T * p) / t)  \n",
    "        x     = x + alpha * p \n",
    "        r     = A * x - b \n",
    "        beta  = np.asscalar((r.T * q) / t)\n",
    "        p     = -r + beta * p \n",
    "        k     = k + 1\n",
    "    return x, k, norm(r)"
   ]
  },
  {
   "cell_type": "code",
   "execution_count": null,
   "metadata": {},
   "outputs": [],
   "source": [
    "# call this function to print out the results.\n",
    "def comparison(cg_method, matrix_type):\n",
    "    for n in [2**i for i in range(6)]:\n",
    "        A = matrix_type(n) \n",
    "        b = np.ones([n, 1])\n",
    "        x, iter_number, err = cg_method(A, b) \n",
    "        x_system            = np.linalg.solve(A, b) \n",
    "        err_system          = norm(A * x_system - b) \n",
    "        print(\"n: {N}\\t CG iter:{ITER}\\t error:{ERR:6.2e}\\t built-in error:{ERRSYS:6.2e}\".format(\n",
    "            N=n, ITER=iter_number,ERR=err, ERRSYS=err_system))"
   ]
  },
  {
   "cell_type": "code",
   "execution_count": null,
   "metadata": {},
   "outputs": [],
   "source": [
    "comparison(CG_prelim, hilbert)"
   ]
  },
  {
   "cell_type": "code",
   "execution_count": null,
   "metadata": {},
   "outputs": [],
   "source": [
    "comparison(CG_prelim, laplacian)"
   ]
  }
 ],
 "metadata": {
  "kernelspec": {
   "display_name": "Python 3",
   "language": "python",
   "name": "python3"
  },
  "language_info": {
   "codemirror_mode": {
    "name": "ipython",
    "version": 3
   },
   "file_extension": ".py",
   "mimetype": "text/x-python",
   "name": "python",
   "nbconvert_exporter": "python",
   "pygments_lexer": "ipython3",
   "version": "3.6.5"
  },
  "latex_envs": {
   "LaTeX_envs_menu_present": true,
   "autoclose": true,
   "autocomplete": true,
   "bibliofile": "biblio.bib",
   "cite_by": "apalike",
   "current_citInitial": 1,
   "eqLabelWithNumbers": true,
   "eqNumInitial": 1,
   "hotkeys": {
    "equation": "Ctrl-E",
    "itemize": "Ctrl-I"
   },
   "labels_anchors": false,
   "latex_user_defs": false,
   "report_style_numbering": true,
   "user_envs_cfg": false
  },
  "toc": {
   "base_numbering": 1,
   "nav_menu": {},
   "number_sections": true,
   "sideBar": true,
   "skip_h1_title": false,
   "title_cell": "Table of Contents",
   "title_sidebar": "Contents",
   "toc_cell": false,
   "toc_position": {},
   "toc_section_display": true,
   "toc_window_display": false
  }
 },
 "nbformat": 4,
 "nbformat_minor": 2
}
