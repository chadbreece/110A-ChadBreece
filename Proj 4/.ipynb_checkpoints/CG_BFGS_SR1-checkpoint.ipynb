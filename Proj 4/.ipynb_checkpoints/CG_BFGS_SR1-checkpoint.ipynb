{
 "cells": [
  {
   "cell_type": "code",
   "execution_count": 2,
   "metadata": {},
   "outputs": [],
   "source": [
    "import numpy as np\n",
    "from scipy.linalg import hilbert"
   ]
  },
  {
   "cell_type": "code",
   "execution_count": 72,
   "metadata": {},
   "outputs": [],
   "source": [
    "def CG(A, b, x0):\n",
    "    x = [np.transpose(x0)]\n",
    "    r = [np.matmul(A,x[-1]) - np.transpose(b)]\n",
    "    a = []\n",
    "    B = []\n",
    "    p = [np.negative(r)]\n",
    "    print(p)\n",
    "    k = 0\n",
    "    while np.linalg.norm(r[k]) > 1e-6:\n",
    "        Apk = np.matmul(A,np.transpose(p[k]))\n",
    "        #print(np.dot(p[k],Apk))\n",
    "        a.append(np.dot(r[k],r[k])\n",
    "                 /np.dot(p[k],Apk))\n",
    "        x.append(x[k] + np.matmul(a[k],p[k]))\n",
    "        r.append(r[k] + a[k]*Apk)  \n",
    "        #print(np.dot(r[k],r[k]))\n",
    "        B.append(np.dot(r[k+1],r[k+1])/np.dot(r[k],r[k]))\n",
    "        p.append(np.negative(r[k+1]) + np.matmul(B[k],np.transpose(p[k])))\n",
    "        k += 1\n",
    "    return x[k]"
   ]
  },
  {
   "cell_type": "code",
   "execution_count": 73,
   "metadata": {},
   "outputs": [
    {
     "name": "stdout",
     "output_type": "stream",
     "text": [
      "[array([[1., 1.]])]\n",
      "[array([[1., 1., 1., 1.]])]\n",
      "[array([[1., 1., 1., 1., 1., 1., 1., 1.]])]\n",
      "[array([[1., 1., 1., 1., 1., 1., 1., 1., 1., 1., 1., 1., 1., 1., 1., 1.]])]\n",
      "[array([[1., 1., 1., 1., 1., 1., 1., 1., 1., 1., 1., 1., 1., 1., 1., 1.,\n",
      "        1., 1., 1., 1., 1., 1., 1., 1., 1., 1., 1., 1., 1., 1., 1., 1.]])]\n"
     ]
    },
    {
     "name": "stderr",
     "output_type": "stream",
     "text": [
      "C:\\Users\\cmebr\\Anaconda3\\lib\\site-packages\\ipykernel_launcher.py:17: RuntimeWarning: invalid value encountered in true_divide\n",
      "C:\\Users\\cmebr\\Anaconda3\\lib\\site-packages\\ipykernel_launcher.py:17: RuntimeWarning: divide by zero encountered in true_divide\n",
      "C:\\Users\\cmebr\\Anaconda3\\lib\\site-packages\\ipykernel_launcher.py:15: RuntimeWarning: invalid value encountered in multiply\n",
      "  from ipykernel import kernelapp as app\n"
     ]
    }
   ],
   "source": [
    "for n in [2,4,8,16,32]:\n",
    "    A = hilbert(n)\n",
    "    b = np.ones(n)\n",
    "    x = CG(A,b,np.zeros(n))"
   ]
  },
  {
   "cell_type": "code",
   "execution_count": null,
   "metadata": {},
   "outputs": [],
   "source": []
  }
 ],
 "metadata": {
  "kernelspec": {
   "display_name": "Python 3",
   "language": "python",
   "name": "python3"
  },
  "language_info": {
   "codemirror_mode": {
    "name": "ipython",
    "version": 3
   },
   "file_extension": ".py",
   "mimetype": "text/x-python",
   "name": "python",
   "nbconvert_exporter": "python",
   "pygments_lexer": "ipython3",
   "version": "3.6.5"
  }
 },
 "nbformat": 4,
 "nbformat_minor": 2
}
