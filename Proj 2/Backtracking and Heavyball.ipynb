{
 "cells": [
  {
   "cell_type": "code",
   "execution_count": null,
   "metadata": {},
   "outputs": [],
   "source": [
    "# Define a backtracking function\n",
    "def backtracking(f, grad, pk, xk, c1, ro):\n",
    "    i"
   ]
  },
  {
   "cell_type": "code",
   "execution_count": null,
   "metadata": {},
   "outputs": [],
   "source": [
    "# 1. The objective function is f(x) = x[0]**2 + x[1]**4\n",
    "# 2. The optimal solution is (0, 0) obviously.\n",
    "\n",
    "import numpy as np\n",
    "from numpy.linalg import norm\n",
    "import matplotlib.pyplot as plt\n",
    "from scipy.optimize import minimize_scalar"
   ]
  },
  {
   "cell_type": "code",
   "execution_count": null,
   "metadata": {},
   "outputs": [],
   "source": [
    "\"\"\"\n",
    "@def   : objective function \n",
    "@param : x is vector \n",
    "@return: a scalar\n",
    "\"\"\"\n",
    "def objective_func(x):\n",
    "    return (x[0] + 2*x[1] - 7)**2 + (2*x[0] + x[1] - 5)**2"
   ]
  },
  {
   "cell_type": "code",
   "execution_count": null,
   "metadata": {},
   "outputs": [],
   "source": [
    "\"\"\"\n",
    "@def   : gradient of objective function \n",
    "@param : x is vector \n",
    "@return: a vector \n",
    "\"\"\"\n",
    "def grad_objective_func(x):\n",
    "    return np.array([10*x[0] + 8*x[1] - 34, 8*x[0] + 10*x[1] - 38])"
   ]
  },
  {
   "cell_type": "code",
   "execution_count": null,
   "metadata": {},
   "outputs": [],
   "source": [
    "\"\"\"\n",
    "@def   : hessian of objective function \n",
    "@param : x is vector \n",
    "@return: a matrix \n",
    "\"\"\"\n",
    "def hessian_func(x):\n",
    "    return np.matrix([\n",
    "        [10, 8], [8, 10]\n",
    "    ])"
   ]
  },
  {
   "cell_type": "code",
   "execution_count": null,
   "metadata": {},
   "outputs": [],
   "source": [
    "# The stopping criteria is selected to be 1e-9 for the gradient norm.\n",
    "# The starting point is [5, 5] for this problem\n",
    "# The optimal solution is [0., 0.].\n",
    "\n",
    "x0 = np.array([5, 5])\n",
    "x_opt = np.array([0., 0.])"
   ]
  },
  {
   "cell_type": "code",
   "execution_count": null,
   "metadata": {},
   "outputs": [],
   "source": [
    "\"\"\"\n",
    "@def   : Newton's method\n",
    "@param : x is vector \n",
    "@return: a vector \n",
    "\"\"\"\n",
    "def newton_method(x0):                      # input is the starting point\n",
    "    x = x0                                  # select the starting point\n",
    "    p = -grad_objective_func(x)             # find descent direction\n",
    "    h = hessian_func(x)                     # find hessian matrix\n",
    "    while norm(p) > 1e-9:                   # if the norm is not small\n",
    "        newton_dir = np.linalg.solve(h, p)  # Newton direction\n",
    "        x = x + newton_dir                  # locate the next iterate\n",
    "        p = -grad_objective_func(x)         # find next descent direction\n",
    "        h = hessian_func(x)                 # find next hessian matrix\n",
    "    return x\n",
    "\n",
    "x = newton_method(x0)\n",
    "print(x)"
   ]
  }
 ],
 "metadata": {
  "kernelspec": {
   "display_name": "Python 3",
   "language": "python",
   "name": "python3"
  },
  "language_info": {
   "codemirror_mode": {
    "name": "ipython",
    "version": 3
   },
   "file_extension": ".py",
   "mimetype": "text/x-python",
   "name": "python",
   "nbconvert_exporter": "python",
   "pygments_lexer": "ipython3",
   "version": "3.6.5"
  }
 },
 "nbformat": 4,
 "nbformat_minor": 2
}
