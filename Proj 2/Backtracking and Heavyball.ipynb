{
 "cells": [
  {
   "cell_type": "markdown",
   "metadata": {},
   "source": [
    "# Task 1: Implementing Backtracking"
   ]
  },
  {
   "cell_type": "code",
   "execution_count": 1,
   "metadata": {},
   "outputs": [],
   "source": [
    "# 1. The objective function is f(x) = x[0]**2 + x[1]**4\n",
    "# 2. The optimal solution is (0, 0) obviously.\n",
    "\n",
    "import numpy as np\n",
    "from numpy.linalg import norm\n",
    "import matplotlib.pyplot as plt\n",
    "from scipy.optimize import minimize_scalar"
   ]
  },
  {
   "cell_type": "code",
   "execution_count": 2,
   "metadata": {},
   "outputs": [],
   "source": [
    "\"\"\"\n",
    "@def   : objective function \n",
    "@param : x is vector \n",
    "@return: a scalar\n",
    "\"\"\"\n",
    "def objective_func(x):\n",
    "    return (x[0] + 2*x[1] - 7)**2 + (2*x[0] + x[1] - 5)**2"
   ]
  },
  {
   "cell_type": "code",
   "execution_count": 3,
   "metadata": {},
   "outputs": [],
   "source": [
    "\"\"\"\n",
    "@def   : gradient of objective function \n",
    "@param : x is vector \n",
    "@return: a vector \n",
    "\"\"\"\n",
    "def grad_objective_func(x):\n",
    "    return np.array([10*x[0] + 8*x[1] - 34, 8*x[0] + 10*x[1] - 38])"
   ]
  },
  {
   "cell_type": "code",
   "execution_count": 4,
   "metadata": {},
   "outputs": [],
   "source": [
    "\"\"\"\n",
    "@def   : hessian of objective function \n",
    "@param : x is vector \n",
    "@return: a matrix \n",
    "\"\"\"\n",
    "def hessian_func(x):\n",
    "    return np.matrix([\n",
    "        [10, 8], [8, 10]\n",
    "    ])"
   ]
  },
  {
   "cell_type": "code",
   "execution_count": 5,
   "metadata": {},
   "outputs": [],
   "source": [
    "# Define a backtracking function\n",
    "def backtracking(f, grad, p, x, c1, ro):\n",
    "    a = 1\n",
    "    while f(x + a*p) > f(x) + c1*a*np.matmul(p,grad(x)):\n",
    "        a = ro*a\n",
    "    return a"
   ]
  },
  {
   "cell_type": "markdown",
   "metadata": {},
   "source": [
    "# Task 2: Backtracking Steepest Descent"
   ]
  },
  {
   "cell_type": "code",
   "execution_count": 6,
   "metadata": {},
   "outputs": [],
   "source": [
    "# The stopping criteria is selected to be 1e-9 for the gradient norm.\n",
    "# The starting point is [5, 5] for this problem\n",
    "# The optimal solution is [0., 0.].\n",
    "\n",
    "x0 = np.array([0, 0])\n",
    "x_opt = np.array([1., 3.])\n",
    "tol = 1e-9\n",
    "c1 = 1e-4\n",
    "ro = 0.1"
   ]
  },
  {
   "cell_type": "code",
   "execution_count": 7,
   "metadata": {
    "scrolled": true
   },
   "outputs": [
    {
     "name": "stdout",
     "output_type": "stream",
     "text": [
      "iterations: 111\n",
      "[1. 3.]\n",
      "iterations: 55\n",
      "[1. 3.]\n",
      "iterations: 798\n",
      "[1. 3.]\n"
     ]
    }
   ],
   "source": [
    "\"\"\"\n",
    "@def   : exact steepest descent method\n",
    "@param : x is vector \n",
    "@return: a vector \n",
    "\"\"\"\n",
    "def backtracking_steepest_descent(x0):  \n",
    "    x = x0           \n",
    "    p = -grad_objective_func(x) \n",
    "    global count\n",
    "    count = 0\n",
    "    while norm(p) > 1e-9:                                       \n",
    "        a = backtracking(objective_func, grad_objective_func, p, x, c1, ro) \n",
    "        x = x + a*p                   \n",
    "        p = -grad_objective_func(x)         \n",
    "        count += 1\n",
    "    print(\"iterations:\", count)\n",
    "    return x\n",
    "\n",
    "\n",
    "x = backtracking_steepest_descent(x0)\n",
    "print(x)\n",
    "\n",
    "ro = 0.5\n",
    "x = backtracking_steepest_descent(x0)\n",
    "print(x)\n",
    "\n",
    "ro = 0.9\n",
    "x = backtracking_steepest_descent(x0)\n",
    "print(x)"
   ]
  },
  {
   "cell_type": "code",
   "execution_count": 8,
   "metadata": {},
   "outputs": [
    {
     "name": "stdout",
     "output_type": "stream",
     "text": [
      "iterations: 13\n",
      "[1. 3.]\n"
     ]
    }
   ],
   "source": [
    "\"\"\"\n",
    "@def   : exact steepest descent method\n",
    "@param : x is vector \n",
    "@return: a vector \n",
    "\"\"\"\n",
    "def exact_steepest_descent(x0):             \n",
    "    x = x0                                  \n",
    "    p = -grad_objective_func(x) \n",
    "    global count\n",
    "    count = 0\n",
    "    while norm(p) > 1e-9:                  \n",
    "        def subproblem1d(alpha):            \n",
    "            return objective_func(x + alpha * p)  \n",
    "                                            \n",
    "        res = minimize_scalar(subproblem1d) \n",
    "        x = x + res.x * p                   \n",
    "        p = -grad_objective_func(x) \n",
    "        count += 1\n",
    "    print(\"iterations:\", count)\n",
    "    return x\n",
    "\n",
    "\n",
    "x = exact_steepest_descent(x0)\n",
    "print(x)"
   ]
  },
  {
   "cell_type": "code",
   "execution_count": 9,
   "metadata": {},
   "outputs": [
    {
     "name": "stdout",
     "output_type": "stream",
     "text": [
      "iterations: 10871\n",
      "[1. 3.]\n"
     ]
    }
   ],
   "source": [
    "alpha = 1e-3\n",
    "\"\"\"\n",
    "@def   : inexact steepest descent method\n",
    "@param : x is vector \n",
    "@return: a vector \n",
    "\"\"\"\n",
    "def inexact_steepest_descent(x0):              \n",
    "    x = x0                                   \n",
    "    p = -grad_objective_func(x) \n",
    "    global count\n",
    "    count = 0\n",
    "    while norm(p) > 1e-9:                    \n",
    "        x = x + alpha * p                    \n",
    "        p = -grad_objective_func(x)          \n",
    "        count += 1\n",
    "    print(\"iterations:\", count)\n",
    "    return x\n",
    "\n",
    "\n",
    "x = inexact_steepest_descent(x0)\n",
    "print(x)"
   ]
  },
  {
   "cell_type": "markdown",
   "metadata": {},
   "source": [
    "a) The running time is certainly more than exact steepest descent but much much less than inexact. \n",
    "\n",
    "b) With a rho = 0.5 the iterations are reduce then go back up with 0.9. "
   ]
  },
  {
   "cell_type": "markdown",
   "metadata": {},
   "source": [
    "# Task 3: Backtracking Newton's Method"
   ]
  },
  {
   "cell_type": "code",
   "execution_count": 10,
   "metadata": {},
   "outputs": [],
   "source": [
    "\"\"\"\n",
    "@def   : objective function \n",
    "@param : x is vector \n",
    "@return: a scalar\n",
    "\"\"\"\n",
    "def objective_func(x):\n",
    "    return (1-x[0])**2 + 100*(x[1] - x[0]**2)**2"
   ]
  },
  {
   "cell_type": "code",
   "execution_count": 11,
   "metadata": {},
   "outputs": [],
   "source": [
    "\"\"\"\n",
    "@def   : gradient of objective function \n",
    "@param : x is vector \n",
    "@return: a vector \n",
    "This is a test\n",
    "\"\"\"\n",
    "def grad_objective_func(x):\n",
    "    return np.array([-400*(x[1]-x[0]**2)*x[0]-2*(1-x[0]), 200*(x[1]-x[0]**2)])"
   ]
  },
  {
   "cell_type": "code",
   "execution_count": 12,
   "metadata": {},
   "outputs": [],
   "source": [
    "def hessian_func(x):\n",
    "    return np.matrix([\n",
    "        [-400*(x[1]-3*x[0]**2)+2, -400*x[0]], [-400*x[0], 200]\n",
    "    ])"
   ]
  },
  {
   "cell_type": "code",
   "execution_count": 13,
   "metadata": {},
   "outputs": [],
   "source": [
    "c1 = 1e-4\n",
    "x_opt = np.array([1., 1.])\n",
    "ro = 0.1"
   ]
  },
  {
   "cell_type": "code",
   "execution_count": 14,
   "metadata": {},
   "outputs": [
    {
     "name": "stdout",
     "output_type": "stream",
     "text": [
      "iterations: 264\n",
      "[1. 1.]\n",
      "iterations: 946\n",
      "[1. 1.]\n"
     ]
    },
    {
     "data": {
      "text/plain": [
       "[<matplotlib.lines.Line2D at 0x29033bad668>]"
      ]
     },
     "execution_count": 14,
     "metadata": {},
     "output_type": "execute_result"
    },
    {
     "data": {
      "image/png": "[encoded data removed]",
      "text/plain": [
       "<Figure size 432x288 with 1 Axes>"
      ]
     },
     "metadata": {},
     "output_type": "display_data"
    },
    {
     "data": {
      "image/png": "[encoded data removed]",
      "text/plain": [
       "<Figure size 432x288 with 1 Axes>"
      ]
     },
     "metadata": {},
     "output_type": "display_data"
    }
   ],
   "source": [
    "\"\"\"\n",
    "@def   : exact steepest descent method\n",
    "@param : x is vector \n",
    "@return: a vector \n",
    "\"\"\"\n",
    "def backtracking_steepest_descent(x0):  \n",
    "    global cl\n",
    "    global cq\n",
    "    cl = []\n",
    "    cq = []\n",
    "    x = [x0]           \n",
    "    p = -grad_objective_func(x0) \n",
    "    global count\n",
    "    count = 0\n",
    "    while norm(p) > 1e-9:                                       \n",
    "        a = backtracking(objective_func, grad_objective_func, p, x[-1], c1, ro) \n",
    "        x.append(x[-1] + a*p)                   \n",
    "        p = -grad_objective_func(x[-1])         \n",
    "        count += 1\n",
    "        cl.append(np.linalg.norm(x[-1] - [1.,1.])/np.linalg.norm(x[-2] - [1.,1.]))\n",
    "        cq.append(np.linalg.norm(x[-1] - [1.,1.])/np.linalg.norm(x[-2] - [1.,1.])**2)\n",
    "    print(\"iterations:\", count)\n",
    "    return x[-1]\n",
    "\n",
    "x0 = np.array([1.2, 1.2])\n",
    "x = backtracking_steepest_descent(x0)\n",
    "print(x)\n",
    "\n",
    "plt.plot(np.arange(count),cl)\n",
    "plt.plot(np.arange(count),cq)\n",
    "\n",
    "x0 = np.array([-1.2, 1])\n",
    "x = backtracking_steepest_descent(x0)\n",
    "print(x)\n",
    "\n",
    "plt.figure()\n",
    "plt.plot(np.arange(count),cl)\n",
    "plt.plot(np.arange(count),cq)"
   ]
  },
  {
   "cell_type": "code",
   "execution_count": 15,
   "metadata": {},
   "outputs": [],
   "source": [
    "c1 = 1e-4\n",
    "x_opt = np.array([1., 1.])\n",
    "ro = 0.9\n",
    "a = 1\n",
    "cl = []\n",
    "cq = []"
   ]
  },
  {
   "cell_type": "code",
   "execution_count": 16,
   "metadata": {},
   "outputs": [
    {
     "name": "stdout",
     "output_type": "stream",
     "text": [
      "iterations: 7\n",
      "[1. 1.]\n",
      "iterations: 20\n",
      "[1. 1.]\n"
     ]
    },
    {
     "data": {
      "text/plain": [
       "[<matplotlib.lines.Line2D at 0x29033fbb7f0>]"
      ]
     },
     "execution_count": 16,
     "metadata": {},
     "output_type": "execute_result"
    },
    {
     "data": {
      "image/png": "[encoded data removed]",
      "text/plain": [
       "<Figure size 432x288 with 1 Axes>"
      ]
     },
     "metadata": {},
     "output_type": "display_data"
    },
    {
     "data": {
      "image/png": "[encoded data removed]",
      "text/plain": [
       "<Figure size 432x288 with 1 Axes>"
      ]
     },
     "metadata": {},
     "output_type": "display_data"
    }
   ],
   "source": [
    "\"\"\"\n",
    "@def   : Newton's method\n",
    "@param : x is vector \n",
    "@return: a vector \n",
    "\"\"\"\n",
    "def newton_method(x0):\n",
    "    global cl\n",
    "    global cq\n",
    "    cl = []\n",
    "    cq = []\n",
    "    x = [x0]\n",
    "    p = -grad_objective_func(x0)\n",
    "    h = hessian_func(x0)\n",
    "    global count\n",
    "    count = 0\n",
    "    while norm(p) > 1e-9:\n",
    "        newton_dir = np.linalg.solve(h, p)\n",
    "        a = backtracking(objective_func, grad_objective_func, newton_dir, x[-1], c1, ro)\n",
    "        x.append(x[-1] + a*newton_dir)\n",
    "        p = -grad_objective_func(x[-1])\n",
    "        h = hessian_func(x[-1])\n",
    "        count += 1\n",
    "        cl.append(np.linalg.norm(x[-1] - [1.,1.])/np.linalg.norm(x[-2] - [1.,1.]))\n",
    "        cq.append(np.linalg.norm(x[-1] - [1.,1.])/np.linalg.norm(x[-2] - [1.,1.])**2)\n",
    "    print(\"iterations:\", count)\n",
    "    return x[-1]\n",
    "\n",
    "x0 = np.array([1.2, 1.2])\n",
    "x = newton_method(x0)\n",
    "print(x)\n",
    "\n",
    "plt.plot(np.arange(count),cl)\n",
    "plt.plot(np.arange(count),cq)\n",
    "\n",
    "x0 = np.array([-1.2, 1])\n",
    "x = newton_method(x0)\n",
    "print(x)\n",
    "\n",
    "plt.figure()\n",
    "plt.plot(np.arange(count),cl)\n",
    "plt.plot(np.arange(count),cq)"
   ]
  },
  {
   "cell_type": "markdown",
   "metadata": {},
   "source": [
    "# Task 4: Heavy Ball Method"
   ]
  },
  {
   "cell_type": "code",
   "execution_count": 17,
   "metadata": {},
   "outputs": [],
   "source": [
    "c1 = 1e-4\n",
    "x_opt = np.array([1., 1.])\n",
    "a = 10**-3\n",
    "B = 0.9\n",
    "cl = []\n",
    "cq = []"
   ]
  },
  {
   "cell_type": "code",
   "execution_count": 18,
   "metadata": {},
   "outputs": [
    {
     "name": "stdout",
     "output_type": "stream",
     "text": [
      "iterations: 3814\n",
      "[1. 1.]\n",
      "iterations: 4681\n",
      "[1. 1.]\n"
     ]
    },
    {
     "data": {
      "text/plain": [
       "[<matplotlib.lines.Line2D at 0x2903403f5c0>]"
      ]
     },
     "execution_count": 18,
     "metadata": {},
     "output_type": "execute_result"
    },
    {
     "data": {
      "image/png": "[encoded data removed]",
      "text/plain": [
       "<Figure size 432x288 with 1 Axes>"
      ]
     },
     "metadata": {},
     "output_type": "display_data"
    },
    {
     "data": {
      "image/png": "[encoded data removed]",
      "text/plain": [
       "<Figure size 432x288 with 1 Axes>"
      ]
     },
     "metadata": {},
     "output_type": "display_data"
    }
   ],
   "source": [
    "\"\"\"\n",
    "@def   : exact steepest descent method\n",
    "@param : x is vector \n",
    "@return: a vector \n",
    "\"\"\"\n",
    "def heavyball(x0):  \n",
    "    global cl\n",
    "    global cq\n",
    "    cl = []\n",
    "    cq = []\n",
    "    x = [x0]          \n",
    "    p = -grad_objective_func(x0) \n",
    "    global a\n",
    "    x.append(x[0] + a*p)\n",
    "    p = -grad_objective_func(x[-1])\n",
    "    global count\n",
    "    count = 0\n",
    "    while norm(p) > 1e-9: \n",
    "        x.append(x[-1] + a*p + B*(x[-1] - x[-2]))\n",
    "        #print(x[-1])\n",
    "        p = -grad_objective_func(x[-1])         \n",
    "        count += 1\n",
    "        cl.append(np.linalg.norm(x[-1] - [1.,1.])/np.linalg.norm(x[-2] - [1.,1.]))\n",
    "        cq.append(np.linalg.norm(x[-1] - [1.,1.])/np.linalg.norm(x[-2] - [1.,1.])**2)\n",
    "    print(\"iterations:\", count)\n",
    "    return x[-1]\n",
    "\n",
    "\n",
    "x0 = np.array([1.2, 1.2])\n",
    "x = heavyball(x0)\n",
    "print(x)\n",
    "\n",
    "plt.figure()\n",
    "plt.plot(np.arange(count),cl)\n",
    "plt.plot(np.arange(count),cq)\n",
    "\n",
    "x0 = np.array([-1.2, 1.])\n",
    "x = heavyball(x0)\n",
    "print(x)\n",
    "\n",
    "plt.figure()\n",
    "plt.plot(np.arange(count),cl)\n",
    "plt.plot(np.arange(count),cq)"
   ]
  },
  {
   "cell_type": "code",
   "execution_count": null,
   "metadata": {},
   "outputs": [],
   "source": []
  }
 ],
 "metadata": {
  "kernelspec": {
   "display_name": "Python 3",
   "language": "python",
   "name": "python3"
  },
  "language_info": {
   "codemirror_mode": {
    "name": "ipython",
    "version": 3
   },
   "file_extension": ".py",
   "mimetype": "text/x-python",
   "name": "python",
   "nbconvert_exporter": "python",
   "pygments_lexer": "ipython3",
   "version": "3.6.5"
  }
 },
 "nbformat": 4,
 "nbformat_minor": 2
}
